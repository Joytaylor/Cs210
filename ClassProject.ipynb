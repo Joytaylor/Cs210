{
 "cells": [
  {
   "cell_type": "code",
   "execution_count": 1,
   "metadata": {},
   "outputs": [],
   "source": [
    "\"\"\"\n",
    "Student Management System\n",
    "\"\"\"\n",
    "import re"
   ]
  },
  {
   "cell_type": "code",
   "execution_count": 8,
   "metadata": {},
   "outputs": [],
   "source": [
    "students= {'Joy':{'hi':\"hi\"}}\n",
    "# can do input validation here as well\n",
    "def getInput(a):\n",
    "    formated = False\n",
    "    if a== 'birthday':\n",
    "        b = input(\"Enter the student's \"+a+\" in MM/DD/YYYY format: \")\n",
    "        while True :\n",
    "            if re.fullmatch(r'\\d{2}/\\d{2}/\\d{4}', b):\n",
    "                return b\n",
    "            b = input(\"Please Try again. Enter the student's \"+a+\" in MM/DD/YYYY format: \")\n",
    "            \n",
    "    elif a=='phone':\n",
    "        b = input(\"Enter the student's \"+a+\" number:\")\n",
    "        while True:\n",
    "            b.replace('()-',\"\").strip()\n",
    "            if len(b) ==10:\n",
    "                def findAlpha(x):\n",
    "                    converted= [\"ABC\",\"DEF\",\"GHI\",\"JKL\",\"MNO\",\"PQRS\",\"TUV\",\"WXYZ\"]\n",
    "                    for i in range(0, len(converted)):\n",
    "                        if x.upper() in converted[i]:\n",
    "                            return str(i+2);\n",
    "                    return None\n",
    "                for i in range(0,10):\n",
    "                    if b[i].isalpha():\n",
    "                        b = b.replace(b[i],findAlpha(b[i]))\n",
    "                        \n",
    "                return b\n",
    "            b= input(\"Please try again. Enter student's\"+a + \":\")\n",
    "    elif a=='grades':\n",
    "        allGrades = []\n",
    "        #finish later Make sure to read the desciption when writing\n",
    "        allGrades.append()\n",
    "        \n",
    "       # needs a while loop for valid input\n",
    "    return input(\"Enter the student's \"+a+\": \")\n",
    "    \n",
    "def addNew():\n",
    "    students[getInput(\"name\").capitalize()]={'birthday': getInput('birthday' ), 'address': getInput('address'),'phone':getInput('phone'), 'grades': getInput('grades')}\n",
    "def remove():\n",
    "    a= input(\"Which student would you like to remove? \").capitalize()\n",
    "    if a in students:\n",
    "        del students[a]\n",
    "        print(a,\"has been removed\")\n",
    "    else:\n",
    "        print(a,\"could not be found\")\n",
    "def exit():\n",
    "    return \"\"\n",
    "def displayInfo():\n",
    "    return 1\n",
    "def displayStats():\n",
    "    return 1\n",
    "def saveData():\n",
    "    return 1\n",
    "def loadData():\n",
    "    return 1\n",
    "\n"
   ]
  },
  {
   "cell_type": "code",
   "execution_count": 9,
   "metadata": {},
   "outputs": [],
   "source": [
    "\n",
    "def menu():\n",
    "    functionList = [[\"Add new student\", addNew], [\"Remove a student\", remove], [\"Display student information\", displayInfo()],\n",
    "                [\"Display statistic about students grades\", displayStats],\n",
    "                [\"Save students' data on csv file\", saveData],\n",
    "                [\"Load students data from csv file\", loadData], [\"Exit\", exit]]\n",
    "                    \n",
    "    function = 0\n",
    "    while function != len(functionList)-1:\n",
    "        for i in range(0,len(functionList)): \n",
    "            print(i+1, functionList[i][0])\n",
    "        function= int(input())-1\n",
    "        functionList[function][1]()"
   ]
  },
  {
   "cell_type": "code",
   "execution_count": 10,
   "metadata": {},
   "outputs": [
    {
     "name": "stdout",
     "output_type": "stream",
     "text": [
      "1 Add new student\n",
      "2 Remove a student\n",
      "3 Display student information\n",
      "4 Display statistic about students grades\n",
      "5 Save students' data on csv file\n",
      "6 Load students data from csv file\n",
      "7 Exit\n",
      "7\n"
     ]
    }
   ],
   "source": [
    "\n",
    "menu()"
   ]
  },
  {
   "cell_type": "code",
   "execution_count": 52,
   "metadata": {},
   "outputs": [
    {
     "data": {
      "text/plain": [
       "{'Joy': {'hi': 'hi'},\n",
       " 'James': {'birthday': '12/23/1231',\n",
       "  'address': 'd',\n",
       "  'phone': '1235371265',\n",
       "  'grades': '1'},\n",
       " 'Jamie': {'birthday': '12/12/1223',\n",
       "  'address': '2',\n",
       "  'phone': '8485461265',\n",
       "  'grades': '12'}}"
      ]
     },
     "execution_count": 52,
     "metadata": {},
     "output_type": "execute_result"
    }
   ],
   "source": [
    "students"
   ]
  },
  {
   "cell_type": "code",
   "execution_count": null,
   "metadata": {},
   "outputs": [],
   "source": []
  }
 ],
 "metadata": {
  "kernelspec": {
   "display_name": "Python 3",
   "language": "python",
   "name": "python3"
  },
  "language_info": {
   "codemirror_mode": {
    "name": "ipython",
    "version": 3
   },
   "file_extension": ".py",
   "mimetype": "text/x-python",
   "name": "python",
   "nbconvert_exporter": "python",
   "pygments_lexer": "ipython3",
   "version": "3.8.5"
  }
 },
 "nbformat": 4,
 "nbformat_minor": 4
}
