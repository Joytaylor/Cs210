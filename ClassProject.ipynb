{
 "cells": [
  {
   "cell_type": "code",
   "execution_count": 8,
   "metadata": {},
   "outputs": [
    {
     "output_type": "execute_result",
     "data": {
      "text/plain": [
       "'\\nStudent Management System\\n'"
      ]
     },
     "metadata": {},
     "execution_count": 8
    }
   ],
   "source": [
    "\"\"\"\n",
    "Student Management System\n",
    "\"\"\"\n",
    "import re"
   ]
  },
  {
   "cell_type": "code",
   "execution_count": 9,
   "metadata": {},
   "outputs": [
    {
     "output_type": "error",
     "ename": "NameError",
     "evalue": "name 'b' is not defined",
     "traceback": [
      "\u001b[1;31m---------------------------------------------------------------------------\u001b[0m",
      "\u001b[1;31mNameError\u001b[0m                                 Traceback (most recent call last)",
      "\u001b[1;32m<ipython-input-9-1592c5523f32>\u001b[0m in \u001b[0;36m<module>\u001b[1;34m\u001b[0m\n\u001b[1;32m----> 1\u001b[1;33m \u001b[0mb\u001b[0m \u001b[1;33m=\u001b[0m \u001b[0minput\u001b[0m\u001b[1;33m(\u001b[0m\u001b[1;34m\"Please Try again. Enter the student's \"\u001b[0m\u001b[1;33m+\u001b[0m\u001b[0mb\u001b[0m\u001b[1;33m+\u001b[0m\u001b[1;34m\" in MM/DD/YYYY format: \"\u001b[0m\u001b[1;33m)\u001b[0m\u001b[1;33m\u001b[0m\u001b[1;33m\u001b[0m\u001b[0m\n\u001b[0m\u001b[0;32m      2\u001b[0m \u001b[1;32mwhile\u001b[0m \u001b[1;32mTrue\u001b[0m\u001b[1;33m:\u001b[0m\u001b[1;33m\u001b[0m\u001b[1;33m\u001b[0m\u001b[0m\n\u001b[0;32m      3\u001b[0m     \u001b[0mb\u001b[0m\u001b[1;33m.\u001b[0m\u001b[0mreplace\u001b[0m\u001b[1;33m(\u001b[0m\u001b[1;34m'()-'\u001b[0m\u001b[1;33m,\u001b[0m\u001b[1;34m\"\"\u001b[0m\u001b[1;33m)\u001b[0m\u001b[1;33m.\u001b[0m\u001b[0mstrip\u001b[0m\u001b[1;33m(\u001b[0m\u001b[1;33m)\u001b[0m\u001b[1;33m\u001b[0m\u001b[1;33m\u001b[0m\u001b[0m\n\u001b[0;32m      4\u001b[0m \u001b[1;32mdef\u001b[0m \u001b[0maddNew\u001b[0m\u001b[1;33m(\u001b[0m\u001b[1;33m)\u001b[0m\u001b[1;33m:\u001b[0m\u001b[1;33m\u001b[0m\u001b[1;33m\u001b[0m\u001b[0m\n\u001b[0;32m      5\u001b[0m     \u001b[1;32mreturn\u001b[0m \u001b[1;36m1\u001b[0m\u001b[1;33m\u001b[0m\u001b[1;33m\u001b[0m\u001b[0m\n",
      "\u001b[1;31mNameError\u001b[0m: name 'b' is not defined"
     ]
    }
   ],
   "source": [
    "students= {'Joy':{'hi':\"hi\"}}\n",
    "# can do input validation here as well\n",
    "def getInput(a):\n",
    "    formated = False\n",
    "    if a== 'birthday':\n",
    "        b = input(\"Enter the student's \"+a+\" in MM/DD/YYYY format: \")\n",
    "        while True :\n",
    "            if re.fullmatch(r'\\d{2}/\\d{2}/\\d{4}', b):\n",
    "                return b\n",
    "            b = input(\"Please Try again. Enter the student's \"+a+\" in MM/DD/YYYY format: \")\n",
    "            \n",
    "    elif a=='phone':\n",
    "        b = input(\"Enter the student's \"+a+\" number:\")\n",
    "        while True:\n",
    "            b.replace('()-',\"\").strip()\n",
    "            if len(b) ==10:\n",
    "                def findAlpha(x):\n",
    "                    converted= [\"ABC\",\"DEF\",\"GHI\",\"JKL\",\"MNO\",\"PQRS\",\"TUV\",\"WXYZ\"]\n",
    "                    for i in range(0, len(converted)):\n",
    "                        if x.upper() in converted[i]:\n",
    "                            return str(i+2);\n",
    "                    return None\n",
    "                for i in range(0,10):\n",
    "                    if b[i].isalpha():\n",
    "                        b = b.replace(b[i],findAlpha(b[i]))\n",
    "                        \n",
    "                return b\n",
    "            b= input(\"Please try again. Enter student's\"+a + \":\")\n",
    "    elif a=='grades':\n",
    "        allGrades = []\n",
    "        #finish later Make sure to read the desciption when writing\n",
    "        allGrades.append()\n",
    "        \n",
    "       # needs a while loop for valid input\n",
    "    return input(\"Enter the student's \"+a+\": \")\n",
    "    \n",
    "def addNew():\n",
    "    students[getInput(\"name\").capitalize()]={'birthday': getInput('birthday' ), 'address': getInput('address'),'phone':getInput('phone'), 'grades': getInput('grades')}\n",
    "def removeStudent():\n",
    "    a= input(\"Which student would you like to remove? \").capitalize()\n",
    "    if a in students:\n",
    "        del students[a]\n",
    "        print(a,\"has been removed\")\n",
    "    else:\n",
    "        print(a,\"could not be found\")\n",
    "def exit():\n",
    "    return \"\"\n",
    "\n"
   ]
  },
  {
   "cell_type": "code",
   "execution_count": 48,
   "metadata": {},
   "outputs": [],
   "source": [
    "\n",
    "def menu():\n",
    "    functionList = [[\"Add new student\", addNew], [[\"Remove a student\", remove], [\"Display student information\", displayInfo()],\n",
    "                [\"Display statistic about students grades\", displayStats],\n",
    "                [\"Save students' data on csv file\", saveData],\n",
    "                [\"Load students data from csv file\", loadData], [\"Exit\", exit]]\n",
    "    function =0\n",
    "    while function != len(functionList)-1:\n",
    "        for i in range(0,len(functionList)): \n",
    "            print(i+1, functionList[i][0])\n",
    "        function= int(input())-1\n",
    "        functionList[function][1]()"
   ]
  },
  {
   "cell_type": "code",
   "execution_count": null,
   "metadata": {},
   "outputs": [
    {
     "name": "stdout",
     "output_type": "stream",
     "text": [
      "1 Add new student\n",
      "2 Remove student\n",
      "3 Exit\n",
      "2\n",
      "Which student would you like to remove? Jamie\n",
      "Jamie  has been removed\n",
      "1 Add new student\n",
      "2 Remove student\n",
      "3 Exit\n"
     ]
    }
   ],
   "source": [
    "\n",
    "menu()"
   ]
  },
  {
   "cell_type": "code",
   "execution_count": 52,
   "metadata": {},
   "outputs": [
    {
     "data": {
      "text/plain": [
       "{'Joy': {'hi': 'hi'},\n",
       " 'James': {'birthday': '12/23/1231',\n",
       "  'address': 'd',\n",
       "  'phone': '1235371265',\n",
       "  'grades': '1'},\n",
       " 'Jamie': {'birthday': '12/12/1223',\n",
       "  'address': '2',\n",
       "  'phone': '8485461265',\n",
       "  'grades': '12'}}"
      ]
     },
     "execution_count": 52,
     "metadata": {},
     "output_type": "execute_result"
    }
   ],
   "source": [
    "students"
   ]
  },
  {
   "cell_type": "code",
   "execution_count": null,
   "metadata": {},
   "outputs": [],
   "source": []
  }
 ],
 "metadata": {
  "kernelspec": {
   "name": "python3",
   "display_name": "Python 3.9.0 64-bit",
   "metadata": {
    "interpreter": {
     "hash": "fc230010e69cd912a663dc26a738b602dccfac62b767f8893e22dde49bafb130"
    }
   }
  },
  "language_info": {
   "codemirror_mode": {
    "name": "ipython",
    "version": 3
   },
   "file_extension": ".py",
   "mimetype": "text/x-python",
   "name": "python",
   "nbconvert_exporter": "python",
   "pygments_lexer": "ipython3",
   "version": "3.9.0-final"
  }
 },
 "nbformat": 4,
 "nbformat_minor": 4
}
