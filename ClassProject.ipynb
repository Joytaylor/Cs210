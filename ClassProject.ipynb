{
 "cells": [
  {
   "cell_type": "code",
   "execution_count": 1,
   "metadata": {},
   "outputs": [],
   "source": [
    "\"\"\"\n",
    "Student Management System\n",
    "\"\"\""
   ]
  },
  {
   "cell_type": "code",
   "execution_count": 2,
   "metadata": {},
   "outputs": [],
   "source": [
    "            b = input(\"Please Try again. Enter the student's \"+a+\" in MM/DD/YYYY format: \")\n",
    "        while True:\n",
    "            b.replace('()-',\"\").strip()\n",
    "def addNew():\n",
    "    return 1\n",
    "def exit():\n",
    "    return \"\"\n",
    "\n",
    "functionList = [[\"Add new student\", addNew()], [\"Exit\", exit()]]\n",
    "\n",
    "def menu():\n",
    "    function =0\n",
    "    while function != len(functionList)-1:\n",
    "        for i in range(0,len(functionList)):\n",
    "            print(i+1, functionList[i][0])\n",
    "        function= int(input(\"\"))-1\n",
    "        functionList[function][1]"
   ]
  },
  {
   "cell_type": "code",
   "execution_count": 3,
   "metadata": {},
   "outputs": [
    {
     "name": "stdout",
     "output_type": "stream",
     "text": [
      "1 Add new student\n",
      "2 Exit\n",
      "1\n",
      "1 Add new student\n",
      "2 Exit\n",
      "2\n"
     ]
    }
   ],
   "source": [
    "menu()"
   ]
  },
  {
   "cell_type": "code",
   "execution_count": null,
   "metadata": {},
   "outputs": [],
   "source": []
  }
 ],
 "metadata": {
  "kernelspec": {
   "display_name": "Python 3",
   "language": "python",
   "name": "python3"
  },
  "language_info": {
   "codemirror_mode": {
    "name": "ipython",
    "version": 3
   },
   "file_extension": ".py",
   "mimetype": "text/x-python",
   "name": "python",
   "nbconvert_exporter": "python",
   "pygments_lexer": "ipython3",
   "version": "3.8.5"
  }
 },
 "nbformat": 4,
 "nbformat_minor": 4
}
